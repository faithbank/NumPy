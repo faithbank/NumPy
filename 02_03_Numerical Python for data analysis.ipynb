{
 "cells": [
  {
   "cell_type": "markdown",
   "id": "d771c100",
   "metadata": {},
   "source": [
    "## NumPy"
   ]
  },
  {
   "cell_type": "markdown",
   "id": "0468cfad",
   "metadata": {},
   "source": [
    "### Creating NumPy Arrays"
   ]
  },
  {
   "cell_type": "code",
   "execution_count": 2,
   "id": "55697c85",
   "metadata": {},
   "outputs": [
    {
     "data": {
      "text/plain": [
       "numpy.ndarray"
      ]
     },
     "execution_count": 2,
     "metadata": {},
     "output_type": "execute_result"
    }
   ],
   "source": [
    "# Using array() method\n",
    "import numpy as np\n",
    "nums_list=[10,12,14,16,20]\n",
    "nums_array= np.array(nums_list)\n",
    "type(nums_array)"
   ]
  },
  {
   "cell_type": "code",
   "execution_count": 3,
   "id": "459e850e",
   "metadata": {},
   "outputs": [
    {
     "data": {
      "text/plain": [
       "(3, 3)"
      ]
     },
     "execution_count": 3,
     "metadata": {},
     "output_type": "execute_result"
    }
   ],
   "source": [
    "# Creating multi-dimensional NumPy arrays\n",
    "row1=[10,12,13]\n",
    "row2=[45,32,16]\n",
    "row3=[45,32,16]\n",
    "\n",
    "nums_2d=np.array([row1,row2,row3])\n",
    "nums_2d.shape"
   ]
  },
  {
   "cell_type": "code",
   "execution_count": 4,
   "id": "712aa8ce",
   "metadata": {},
   "outputs": [
    {
     "name": "stdout",
     "output_type": "stream",
     "text": [
      "[ 5  6  7  8  9 10]\n"
     ]
    }
   ],
   "source": [
    "# Using arrange() method\n",
    "nums_arr=np.arange(5,11)\n",
    "print(nums_arr)"
   ]
  },
  {
   "cell_type": "code",
   "execution_count": 5,
   "id": "d142572c",
   "metadata": {},
   "outputs": [
    {
     "name": "stdout",
     "output_type": "stream",
     "text": [
      "[1. 1. 1. 1. 1. 1.]\n"
     ]
    }
   ],
   "source": [
    "# Using Ones Method\n",
    "ones_array=np.ones(6)\n",
    "print(ones_array)"
   ]
  },
  {
   "cell_type": "code",
   "execution_count": 6,
   "id": "5942ce8f",
   "metadata": {},
   "outputs": [
    {
     "name": "stdout",
     "output_type": "stream",
     "text": [
      "[[1. 1. 1. 1.]\n",
      " [1. 1. 1. 1.]\n",
      " [1. 1. 1. 1.]\n",
      " [1. 1. 1. 1.]\n",
      " [1. 1. 1. 1.]\n",
      " [1. 1. 1. 1.]]\n"
     ]
    }
   ],
   "source": [
    "# 2-d array of ones\n",
    "ones_array=np.ones((6,4))\n",
    "print(ones_array)"
   ]
  },
  {
   "cell_type": "code",
   "execution_count": 7,
   "id": "f94f6dcc",
   "metadata": {},
   "outputs": [
    {
     "name": "stdout",
     "output_type": "stream",
     "text": [
      "[0. 0. 0. 0. 0. 0.]\n"
     ]
    }
   ],
   "source": [
    "# Using Zeros Method\n",
    "zeros_array=np.zeros(6)\n",
    "print(zeros_array)"
   ]
  },
  {
   "cell_type": "code",
   "execution_count": 8,
   "id": "d6d90bb5",
   "metadata": {},
   "outputs": [
    {
     "name": "stdout",
     "output_type": "stream",
     "text": [
      "[[0. 0. 0. 0.]\n",
      " [0. 0. 0. 0.]\n",
      " [0. 0. 0. 0.]\n",
      " [0. 0. 0. 0.]\n",
      " [0. 0. 0. 0.]\n",
      " [0. 0. 0. 0.]]\n"
     ]
    }
   ],
   "source": [
    "zeros_array=np.zeros((6,4))\n",
    "print(zeros_array)\n"
   ]
  },
  {
   "cell_type": "code",
   "execution_count": 9,
   "id": "a8f7dae1",
   "metadata": {},
   "outputs": [
    {
     "name": "stdout",
     "output_type": "stream",
     "text": [
      "[[1. 0. 0. 0. 0.]\n",
      " [0. 1. 0. 0. 0.]\n",
      " [0. 0. 1. 0. 0.]\n",
      " [0. 0. 0. 1. 0.]\n",
      " [0. 0. 0. 0. 1.]]\n"
     ]
    }
   ],
   "source": [
    "# Using eye() method to create an identity matrix in\n",
    " #the form of a 2-d numPy array\n",
    "eyes_array=np.eye(5)\n",
    "print(eyes_array)"
   ]
  },
  {
   "cell_type": "code",
   "execution_count": 10,
   "id": "97529303",
   "metadata": {},
   "outputs": [
    {
     "name": "stdout",
     "output_type": "stream",
     "text": [
      "[[0.66229344 0.24103164 0.7910208  0.1308063  0.80009812]\n",
      " [0.77212125 0.15997279 0.13546627 0.73560246 0.27155859]\n",
      " [0.53290284 0.96546748 0.10615759 0.5862926  0.8007359 ]\n",
      " [0.28183619 0.16317773 0.61228842 0.33497034 0.68573733]]\n"
     ]
    }
   ],
   "source": [
    "# Using Random Method for an array with uniform distribution\n",
    "uniform_random=np.random.rand(4,5)\n",
    "print(uniform_random)"
   ]
  },
  {
   "cell_type": "code",
   "execution_count": 12,
   "id": "7bed6cc5",
   "metadata": {},
   "outputs": [
    {
     "name": "stdout",
     "output_type": "stream",
     "text": [
      "[[ 2.62141052 -0.34537122 -0.51387294  0.55949946  1.72194613]\n",
      " [ 0.16686398 -1.64635309  0.23625254 -2.13733976  0.27015568]\n",
      " [ 0.65346187  2.04724549  0.77075984  0.17340229  0.79567943]\n",
      " [ 0.70363887  0.39763399 -0.75502367 -1.01692358 -0.30729311]]\n"
     ]
    }
   ],
   "source": [
    "# Using random.randn() for an array with uniform distribution\n",
    "uniform_random=np.random.randn(4,5)\n",
    "print(uniform_random)"
   ]
  },
  {
   "cell_type": "code",
   "execution_count": 13,
   "id": "5f310ce4",
   "metadata": {},
   "outputs": [
    {
     "name": "stdout",
     "output_type": "stream",
     "text": [
      "[20 28 26 20 37]\n"
     ]
    }
   ],
   "source": [
    "# random.randint() creates an array with random \n",
    " #integers between a certain range.\n",
    "integer_random=np.random.randint(10,50,5)\n",
    "print(integer_random)"
   ]
  },
  {
   "cell_type": "code",
   "execution_count": 15,
   "id": "f47b6dbe",
   "metadata": {
    "scrolled": true
   },
   "outputs": [
    {
     "data": {
      "text/plain": [
       "array([[ 2.62141052, -0.34537122, -0.51387294,  0.55949946],\n",
       "       [ 1.72194613,  0.16686398, -1.64635309,  0.23625254],\n",
       "       [-2.13733976,  0.27015568,  0.65346187,  2.04724549],\n",
       "       [ 0.77075984,  0.17340229,  0.79567943,  0.70363887],\n",
       "       [ 0.39763399, -0.75502367, -1.01692358, -0.30729311]])"
      ]
     },
     "execution_count": 15,
     "metadata": {},
     "output_type": "execute_result"
    }
   ],
   "source": [
    "# To reshape numPy array\n",
    "uniform_random.reshape(5,4)"
   ]
  },
  {
   "cell_type": "markdown",
   "id": "b073ae1b",
   "metadata": {},
   "source": [
    "### Array Indexing and Slicing"
   ]
  },
  {
   "cell_type": "code",
   "execution_count": 16,
   "id": "cde1e5c0",
   "metadata": {},
   "outputs": [],
   "source": [
    "# Slicing means dividing an array into multiple parts"
   ]
  },
  {
   "cell_type": "code",
   "execution_count": 18,
   "id": "a4404a88",
   "metadata": {},
   "outputs": [
    {
     "name": "stdout",
     "output_type": "stream",
     "text": [
      "[ 1  2  3  4  5  6  7  8  9 10]\n",
      "2\n"
     ]
    }
   ],
   "source": [
    "# Accessing item by index\n",
    "s=np.arange(1,11)\n",
    "print(s)\n",
    "print(s[1])"
   ]
  },
  {
   "cell_type": "code",
   "execution_count": 19,
   "id": "4d03fdef",
   "metadata": {},
   "outputs": [
    {
     "name": "stdout",
     "output_type": "stream",
     "text": [
      "[2 3 4 5 6 7 8 9]\n"
     ]
    }
   ],
   "source": [
    "# Slicing\n",
    "print(s[1:9])"
   ]
  },
  {
   "cell_type": "code",
   "execution_count": 20,
   "id": "064055a7",
   "metadata": {},
   "outputs": [
    {
     "name": "stdout",
     "output_type": "stream",
     "text": [
      "[1 2 3 4 5]\n",
      "[ 6  7  8  9 10]\n"
     ]
    }
   ],
   "source": [
    "# To specify upper and lower bounds\n",
    "print(s[:5])\n",
    "print(s[5:])"
   ]
  },
  {
   "cell_type": "code",
   "execution_count": 22,
   "id": "8a0d357f",
   "metadata": {},
   "outputs": [
    {
     "name": "stdout",
     "output_type": "stream",
     "text": [
      "[[10 12 13]\n",
      " [45 32 16]]\n"
     ]
    }
   ],
   "source": [
    "# Slicing on 2-dimensional array\n",
    " # Apply slicing on arrays and columns seperately\n",
    "row1=[10,12,13]\n",
    "row2=[45,32,16]\n",
    "row3=[45,32,16]\n",
    "\n",
    "nums_2d=np.array([row1,row2,row3])\n",
    "print(nums_2d[:2,:])"
   ]
  },
  {
   "cell_type": "code",
   "execution_count": 23,
   "id": "2d18ad29",
   "metadata": {},
   "outputs": [
    {
     "name": "stdout",
     "output_type": "stream",
     "text": [
      "[[10 12]\n",
      " [45 32]\n",
      " [45 32]]\n"
     ]
    }
   ],
   "source": [
    "nums_2d=np.array([row1,row2,row3])\n",
    "print(nums_2d[:,:2])"
   ]
  },
  {
   "cell_type": "markdown",
   "id": "6bc03f1c",
   "metadata": {},
   "source": [
    "### NumPy for Arithmetic |Operations"
   ]
  },
  {
   "cell_type": "code",
   "execution_count": 24,
   "id": "98eb68f8",
   "metadata": {},
   "outputs": [
    {
     "name": "stdout",
     "output_type": "stream",
     "text": [
      "[3.16227766 4.47213595 5.47722558 6.32455532 7.07106781]\n"
     ]
    }
   ],
   "source": [
    "# Finding square roots\n",
    "nums=[10,20,30,40,50]\n",
    "np_sqr=np.sqrt(nums)\n",
    "print(np_sqr)"
   ]
  },
  {
   "cell_type": "code",
   "execution_count": 25,
   "id": "60623e75",
   "metadata": {},
   "outputs": [
    {
     "name": "stdout",
     "output_type": "stream",
     "text": [
      "[2.30258509 2.99573227 3.40119738 3.68887945 3.91202301]\n"
     ]
    }
   ],
   "source": [
    "# Logarithm\n",
    "np_log=np.log(nums)\n",
    "print(np_log)"
   ]
  },
  {
   "cell_type": "code",
   "execution_count": 26,
   "id": "4024b1b9",
   "metadata": {},
   "outputs": [
    {
     "name": "stdout",
     "output_type": "stream",
     "text": [
      "[2.20264658e+04 4.85165195e+08 1.06864746e+13 2.35385267e+17\n",
      " 5.18470553e+21]\n"
     ]
    }
   ],
   "source": [
    "# Exponent\n",
    "np_exp=np.exp(nums)\n",
    "print(np_exp)"
   ]
  },
  {
   "cell_type": "markdown",
   "id": "30474f81",
   "metadata": {},
   "source": [
    "### NumPy for Linear Algebra Operations"
   ]
  },
  {
   "cell_type": "code",
   "execution_count": 27,
   "id": "28e4c796",
   "metadata": {},
   "outputs": [
    {
     "name": "stdout",
     "output_type": "stream",
     "text": [
      "[[-2.72971748  1.78099695  2.12450369  0.10247833]\n",
      " [ 0.34397437 -0.15587059 -1.21751466 -0.69179763]\n",
      " [-2.02912912  0.26675115  0.53487584  1.32032753]\n",
      " [-2.15219834  1.21072176  1.94803178  0.42977823]]\n"
     ]
    }
   ],
   "source": [
    "# Matrix Dot Product with the dot() function\n",
    "a=np.random.randn(4,5)\n",
    "b=np.random.randn(5,4)\n",
    "\n",
    "z=np.dot(a,b)\n",
    "\n",
    "print(z)"
   ]
  },
  {
   "cell_type": "code",
   "execution_count": 28,
   "id": "5d1ae184",
   "metadata": {},
   "outputs": [
    {
     "name": "stdout",
     "output_type": "stream",
     "text": [
      "[[ 100  144  169]\n",
      " [2025 1024  256]\n",
      " [2025 1024  256]]\n"
     ]
    }
   ],
   "source": [
    "# Element-wise Matrix Multiplication with the multiply() function\n",
    "nums_2d=np.array([row1,row2,row3])\n",
    "multiply=np.multiply(nums_2d,nums_2d)\n",
    "print(multiply)"
   ]
  },
  {
   "cell_type": "code",
   "execution_count": 30,
   "id": "9bea48b5",
   "metadata": {},
   "outputs": [
    {
     "name": "stdout",
     "output_type": "stream",
     "text": [
      "[[ 3.15251974e+15 -6.30503948e+15  3.15251974e+15]\n",
      " [-6.30503948e+15  1.26100790e+16 -6.30503948e+15]\n",
      " [ 3.15251974e+15 -6.30503948e+15  3.15251974e+15]]\n"
     ]
    }
   ],
   "source": [
    "# Matrix Inverse with the linalg.inv() function\n",
    "row1=[1,2,3]\n",
    "row2=[4,5,6]\n",
    "row3=[7,8,9]\n",
    "\n",
    "nums_2d=np.array([row1,row2,row3])\n",
    "inverse=np.linalg.inv(nums_2d)\n",
    "print(inverse)"
   ]
  },
  {
   "cell_type": "code",
   "execution_count": 31,
   "id": "d9073a1a",
   "metadata": {},
   "outputs": [
    {
     "name": "stdout",
     "output_type": "stream",
     "text": [
      "-9.51619735392994e-16\n"
     ]
    }
   ],
   "source": [
    "#Matrix Determinant with the linalg.det() function\n",
    "determinant=np.linalg.det(nums_2d)\n",
    "print(determinant)"
   ]
  },
  {
   "cell_type": "code",
   "execution_count": 34,
   "id": "427a0e34",
   "metadata": {},
   "outputs": [
    {
     "name": "stdout",
     "output_type": "stream",
     "text": [
      "15\n"
     ]
    }
   ],
   "source": [
    "# Matrix trace with the trace() function\n",
    "trace=np.trace(nums_2d)\n",
    "print(trace)"
   ]
  },
  {
   "cell_type": "code",
   "execution_count": null,
   "id": "bfd719f2",
   "metadata": {},
   "outputs": [],
   "source": []
  }
 ],
 "metadata": {
  "kernelspec": {
   "display_name": "Python 3 (ipykernel)",
   "language": "python",
   "name": "python3"
  },
  "language_info": {
   "codemirror_mode": {
    "name": "ipython",
    "version": 3
   },
   "file_extension": ".py",
   "mimetype": "text/x-python",
   "name": "python",
   "nbconvert_exporter": "python",
   "pygments_lexer": "ipython3",
   "version": "3.9.12"
  }
 },
 "nbformat": 4,
 "nbformat_minor": 5
}
