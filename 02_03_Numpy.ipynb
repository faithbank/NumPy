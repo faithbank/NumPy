{
 "cells": [
  {
   "cell_type": "markdown",
   "id": "3a8cfbcf",
   "metadata": {},
   "source": [
    "### Numpy"
   ]
  },
  {
   "cell_type": "code",
   "execution_count": 11,
   "id": "5f160324",
   "metadata": {},
   "outputs": [],
   "source": [
    "#We import a library using import keyword\n",
    "import numpy as np\n",
    "import math"
   ]
  },
  {
   "cell_type": "markdown",
   "id": "0ca4f4eb",
   "metadata": {},
   "source": [
    "### Array creation"
   ]
  },
  {
   "cell_type": "code",
   "execution_count": 12,
   "id": "3d7c9e6d",
   "metadata": {},
   "outputs": [
    {
     "name": "stdout",
     "output_type": "stream",
     "text": [
      "[1 2 3]\n",
      "1\n"
     ]
    }
   ],
   "source": [
    "# Arrays are displayed as lists or lists of lists\n",
    "#In arrays, we pass in a list as an argument\n",
    "a= np.array([1,2,3])\n",
    "print(a)\n",
    "#We can print the numbers of dimensions of a list\n",
    "print(a.ndim)"
   ]
  },
  {
   "cell_type": "code",
   "execution_count": 13,
   "id": "fd8f92f3",
   "metadata": {},
   "outputs": [
    {
     "data": {
      "text/plain": [
       "array([[1, 2, 3],\n",
       "       [4, 5, 6]])"
      ]
     },
     "execution_count": 13,
     "metadata": {},
     "output_type": "execute_result"
    }
   ],
   "source": [
    "#To pass in a list of list, create a multidimensional array, like a matrix\n",
    "b= np.array([[1,2,3],[4,5,6]])\n",
    "b"
   ]
  },
  {
   "cell_type": "code",
   "execution_count": 14,
   "id": "8a81a11e",
   "metadata": {},
   "outputs": [
    {
     "data": {
      "text/plain": [
       "(2, 3)"
      ]
     },
     "execution_count": 14,
     "metadata": {},
     "output_type": "execute_result"
    }
   ],
   "source": [
    "# To print the length of each dimension\n",
    "b.shape"
   ]
  },
  {
   "cell_type": "code",
   "execution_count": 15,
   "id": "1a9a1692",
   "metadata": {},
   "outputs": [
    {
     "data": {
      "text/plain": [
       "dtype('int32')"
      ]
     },
     "execution_count": 15,
     "metadata": {},
     "output_type": "execute_result"
    }
   ],
   "source": [
    "# Type of items in array\n",
    "a.dtype"
   ]
  },
  {
   "cell_type": "code",
   "execution_count": 16,
   "id": "11f57b42",
   "metadata": {},
   "outputs": [
    {
     "data": {
      "text/plain": [
       "'float64'"
      ]
     },
     "execution_count": 16,
     "metadata": {},
     "output_type": "execute_result"
    }
   ],
   "source": [
    "#Floats are also accepted\n",
    "c= np.array([2.2, 5, 1.1])\n",
    "c.dtype.name"
   ]
  },
  {
   "cell_type": "code",
   "execution_count": 17,
   "id": "9843fa2d",
   "metadata": {},
   "outputs": [
    {
     "data": {
      "text/plain": [
       "array([2.2, 5. , 1.1])"
      ]
     },
     "execution_count": 17,
     "metadata": {},
     "output_type": "execute_result"
    }
   ],
   "source": [
    "c"
   ]
  },
  {
   "cell_type": "code",
   "execution_count": 18,
   "id": "34391b5d",
   "metadata": {},
   "outputs": [
    {
     "name": "stdout",
     "output_type": "stream",
     "text": [
      "[[0. 0. 0.]\n",
      " [0. 0. 0.]]\n",
      "[[1. 1. 1.]\n",
      " [1. 1. 1.]]\n"
     ]
    }
   ],
   "source": [
    "# Two arrays, different filler values but same shape\n",
    "d=np.zeros((2,3))\n",
    "print(d)\n",
    "\n",
    "e=np.ones((2,3))\n",
    "print(e)"
   ]
  },
  {
   "cell_type": "code",
   "execution_count": 19,
   "id": "72af9eb6",
   "metadata": {},
   "outputs": [
    {
     "data": {
      "text/plain": [
       "array([[0.57459595, 0.35418937, 0.1980059 ],\n",
       "       [0.23731077, 0.14902886, 0.52143843]])"
      ]
     },
     "execution_count": 19,
     "metadata": {},
     "output_type": "execute_result"
    }
   ],
   "source": [
    "# We can generate an array with random numbers\n",
    "np.random.rand(2,3)"
   ]
  },
  {
   "cell_type": "code",
   "execution_count": 20,
   "id": "9ecf0644",
   "metadata": {},
   "outputs": [
    {
     "data": {
      "text/plain": [
       "array([10, 12, 14, 16, 18, 20, 22, 24, 26, 28, 30, 32, 34, 36, 38, 40, 42,\n",
       "       44, 46, 48])"
      ]
     },
     "execution_count": 20,
     "metadata": {},
     "output_type": "execute_result"
    }
   ],
   "source": [
    "# Array of every even number from ten to fifty\n",
    "f= np.arange(10, 50, 2)\n",
    "f"
   ]
  },
  {
   "cell_type": "code",
   "execution_count": 21,
   "id": "0bcd6561",
   "metadata": {},
   "outputs": [
    {
     "data": {
      "text/plain": [
       "array([0.        , 0.14285714, 0.28571429, 0.42857143, 0.57142857,\n",
       "       0.71428571, 0.85714286, 1.        , 1.14285714, 1.28571429,\n",
       "       1.42857143, 1.57142857, 1.71428571, 1.85714286, 2.        ])"
      ]
     },
     "execution_count": 21,
     "metadata": {},
     "output_type": "execute_result"
    }
   ],
   "source": [
    "# Sequence of floats\n",
    "np.linspace(0,2,15)"
   ]
  },
  {
   "cell_type": "markdown",
   "id": "a7ec93d5",
   "metadata": {},
   "source": [
    "## Array Operations"
   ]
  },
  {
   "cell_type": "code",
   "execution_count": 22,
   "id": "b983797b",
   "metadata": {},
   "outputs": [
    {
     "name": "stdout",
     "output_type": "stream",
     "text": [
      "[ 9 18 27 36]\n",
      "[ 10  40  90 160]\n"
     ]
    }
   ],
   "source": [
    "# Arithmetic operators on arrays only apply elementwise\n",
    "a=np.array([10,20,30,40])\n",
    "b=np.array([1,2,3,4])\n",
    "\n",
    "c=a-b\n",
    "print(c)\n",
    "\n",
    "d=a*b\n",
    "print(d)"
   ]
  },
  {
   "cell_type": "code",
   "execution_count": 23,
   "id": "0f05bc83",
   "metadata": {},
   "outputs": [
    {
     "data": {
      "text/plain": [
       "array([-17.22222222, -22.77777778, -20.        , -25.55555556,\n",
       "       -17.22222222])"
      ]
     },
     "execution_count": 23,
     "metadata": {},
     "output_type": "execute_result"
    }
   ],
   "source": [
    "# Array of farenheit values\n",
    "farenheit = np.array([0,-10,-5,-15,0])\n",
    "\n",
    "# Formula for conversion is ((F-32)* 5/9= C)\n",
    "celcius= (farenheit - 31)*(5/9)\n",
    "celcius"
   ]
  },
  {
   "cell_type": "code",
   "execution_count": 24,
   "id": "6000a963",
   "metadata": {},
   "outputs": [
    {
     "data": {
      "text/plain": [
       "array([ True, False, False, False,  True])"
      ]
     },
     "execution_count": 24,
     "metadata": {},
     "output_type": "execute_result"
    }
   ],
   "source": [
    "# Apply operator on array to get boolean values\n",
    "celcius> -20"
   ]
  },
  {
   "cell_type": "code",
   "execution_count": 25,
   "id": "d22e08f9",
   "metadata": {},
   "outputs": [
    {
     "name": "stdout",
     "output_type": "stream",
     "text": [
      "[[2 0]\n",
      " [0 4]]\n"
     ]
    }
   ],
   "source": [
    "# Elementwise product uses the \"*\" sign\n",
    "a= np.array([[1,1],[0,1]])\n",
    "b= np.array([[2,0],[3,4]])\n",
    "print(a*b)"
   ]
  },
  {
   "cell_type": "code",
   "execution_count": 26,
   "id": "3032da2d",
   "metadata": {},
   "outputs": [
    {
     "name": "stdout",
     "output_type": "stream",
     "text": [
      "[[5 4]\n",
      " [3 4]]\n"
     ]
    }
   ],
   "source": [
    "# For matrix product, use \"@\" sign or dot function\n",
    "print(a@b)"
   ]
  },
  {
   "cell_type": "code",
   "execution_count": 27,
   "id": "94de8062",
   "metadata": {},
   "outputs": [
    {
     "data": {
      "text/plain": [
       "(2, 2)"
      ]
     },
     "execution_count": 27,
     "metadata": {},
     "output_type": "execute_result"
    }
   ],
   "source": [
    "#To see the shape of matrix\n",
    "a.shape"
   ]
  },
  {
   "cell_type": "code",
   "execution_count": 28,
   "id": "69ae858f",
   "metadata": {},
   "outputs": [
    {
     "name": "stdout",
     "output_type": "stream",
     "text": [
      "int32\n",
      "float64\n"
     ]
    }
   ],
   "source": [
    "# When manipulating arrays of different types, the type of the resulting array will \n",
    "#correspond to the more general of the two. This is called upcasting\n",
    "array1= np.array([[1,2,3],[4,5,6]])\n",
    "print(array1.dtype)\n",
    "\n",
    "array2= np.array([[7.1,8.2,9.1],[10.4,11.2,12.3]])\n",
    "print(array2.dtype)\n",
    "\n",
    "# Number after the type represents the number of bits the operating system reserves."
   ]
  },
  {
   "cell_type": "code",
   "execution_count": 29,
   "id": "4a64425d",
   "metadata": {},
   "outputs": [
    {
     "name": "stdout",
     "output_type": "stream",
     "text": [
      "[[ 8.1 10.2 12.1]\n",
      " [14.4 16.2 18.3]]\n",
      "float64\n"
     ]
    }
   ],
   "source": [
    "# Items in the resulting array will be upcast into floating point numbers\n",
    "array3= array1+array2\n",
    "print(array3)\n",
    "print(array3.dtype)"
   ]
  },
  {
   "cell_type": "code",
   "execution_count": 30,
   "id": "69ae897c",
   "metadata": {},
   "outputs": [
    {
     "name": "stdout",
     "output_type": "stream",
     "text": [
      "79.3\n",
      "18.3\n",
      "8.1\n",
      "13.216666666666667\n"
     ]
    }
   ],
   "source": [
    "# Numpy arrays have other functions\n",
    "print(array3.sum())\n",
    "print(array3.max())\n",
    "print(array3.min())\n",
    "print(array3.mean())"
   ]
  },
  {
   "cell_type": "markdown",
   "id": "2392dc77",
   "metadata": {},
   "source": [
    "## Two dimensional arrays"
   ]
  },
  {
   "cell_type": "code",
   "execution_count": 31,
   "id": "d2b76bd1",
   "metadata": {},
   "outputs": [
    {
     "name": "stdout",
     "output_type": "stream",
     "text": [
      "[[ 1  2  3  4  5]\n",
      " [ 6  7  8  9 10]\n",
      " [11 12 13 14 15]]\n"
     ]
    }
   ],
   "source": [
    "b= np.arange(1,16,1).reshape(3,5)\n",
    "print(b)"
   ]
  },
  {
   "cell_type": "code",
   "execution_count": 32,
   "id": "7585e634",
   "metadata": {},
   "outputs": [
    {
     "ename": "FileNotFoundError",
     "evalue": "[Errno 2] No such file or directory: 'Screenshot(1).tiff'",
     "output_type": "error",
     "traceback": [
      "\u001b[1;31m---------------------------------------------------------------------------\u001b[0m",
      "\u001b[1;31mFileNotFoundError\u001b[0m                         Traceback (most recent call last)",
      "Input \u001b[1;32mIn [32]\u001b[0m, in \u001b[0;36m<cell line: 5>\u001b[1;34m()\u001b[0m\n\u001b[0;32m      2\u001b[0m \u001b[38;5;28;01mfrom\u001b[39;00m \u001b[38;5;21;01mPIL\u001b[39;00m \u001b[38;5;28;01mimport\u001b[39;00m Image\n\u001b[0;32m      3\u001b[0m \u001b[38;5;28;01mfrom\u001b[39;00m \u001b[38;5;21;01mIPython\u001b[39;00m\u001b[38;5;21;01m.\u001b[39;00m\u001b[38;5;21;01mdisplay\u001b[39;00m \u001b[38;5;28;01mimport\u001b[39;00m display\n\u001b[1;32m----> 5\u001b[0m im\u001b[38;5;241m=\u001b[39m \u001b[43mImage\u001b[49m\u001b[38;5;241;43m.\u001b[39;49m\u001b[43mopen\u001b[49m\u001b[43m(\u001b[49m\u001b[38;5;124;43m'\u001b[39;49m\u001b[38;5;124;43mScreenshot(1).tiff\u001b[39;49m\u001b[38;5;124;43m'\u001b[39;49m\u001b[43m)\u001b[49m\n\u001b[0;32m      6\u001b[0m display(Im)\n",
      "File \u001b[1;32m~\\anaconda3\\lib\\site-packages\\PIL\\Image.py:2953\u001b[0m, in \u001b[0;36mopen\u001b[1;34m(fp, mode, formats)\u001b[0m\n\u001b[0;32m   2950\u001b[0m     filename \u001b[38;5;241m=\u001b[39m fp\n\u001b[0;32m   2952\u001b[0m \u001b[38;5;28;01mif\u001b[39;00m filename:\n\u001b[1;32m-> 2953\u001b[0m     fp \u001b[38;5;241m=\u001b[39m \u001b[43mbuiltins\u001b[49m\u001b[38;5;241;43m.\u001b[39;49m\u001b[43mopen\u001b[49m\u001b[43m(\u001b[49m\u001b[43mfilename\u001b[49m\u001b[43m,\u001b[49m\u001b[43m \u001b[49m\u001b[38;5;124;43m\"\u001b[39;49m\u001b[38;5;124;43mrb\u001b[39;49m\u001b[38;5;124;43m\"\u001b[39;49m\u001b[43m)\u001b[49m\n\u001b[0;32m   2954\u001b[0m     exclusive_fp \u001b[38;5;241m=\u001b[39m \u001b[38;5;28;01mTrue\u001b[39;00m\n\u001b[0;32m   2956\u001b[0m \u001b[38;5;28;01mtry\u001b[39;00m:\n",
      "\u001b[1;31mFileNotFoundError\u001b[0m: [Errno 2] No such file or directory: 'Screenshot(1).tiff'"
     ]
    }
   ],
   "source": [
    "# Using python imaging library (pil) to display images\n",
    "from PIL import Image\n",
    "from IPython.display import display\n",
    "\n",
    "im= Image.open('Screenshot(1).tiff')\n",
    "display(Im)"
   ]
  },
  {
   "cell_type": "markdown",
   "id": "178aa7cd",
   "metadata": {},
   "source": [
    "## Indexing, Slicing and Iterating"
   ]
  },
  {
   "cell_type": "markdown",
   "id": "dd83b5fa",
   "metadata": {},
   "source": [
    "### Indexing"
   ]
  },
  {
   "cell_type": "code",
   "execution_count": null,
   "id": "44589f94",
   "metadata": {},
   "outputs": [],
   "source": [
    "# For 1-d array, use offset index\n",
    "a= np.array([1,3,5,7])\n",
    "a[2]"
   ]
  },
  {
   "cell_type": "code",
   "execution_count": null,
   "id": "b9ef53ad",
   "metadata": {},
   "outputs": [],
   "source": [
    "# For multidimensional arrays, use integer array indexing\n",
    "a=np.array([[1,2],[3,4],[5,6]])\n",
    "a"
   ]
  },
  {
   "cell_type": "code",
   "execution_count": null,
   "id": "9092de21",
   "metadata": {},
   "outputs": [],
   "source": [
    "# To select one element, enter the index. \n",
    "#The first integer is the row. The second is the column\n",
    "a[1,1]"
   ]
  },
  {
   "cell_type": "code",
   "execution_count": null,
   "id": "16c9c95c",
   "metadata": {},
   "outputs": [],
   "source": [
    "# To get multiple elements, enter indicies into an array function\n",
    "np.array([a[0,0], a[1,1], a[2,1]])"
   ]
  },
  {
   "cell_type": "code",
   "execution_count": null,
   "id": "48828af2",
   "metadata": {},
   "outputs": [],
   "source": [
    "# Or...\n",
    "print(a[[0,1,2],[0,1,1]])"
   ]
  },
  {
   "cell_type": "markdown",
   "id": "de825213",
   "metadata": {},
   "source": [
    "### Boolean Indexing"
   ]
  },
  {
   "cell_type": "code",
   "execution_count": null,
   "id": "bf03dfcd",
   "metadata": {},
   "outputs": [],
   "source": [
    "# Allows us select arbitrary elements based on conditions\n",
    "print(a>5)"
   ]
  },
  {
   "cell_type": "code",
   "execution_count": null,
   "id": "014239d6",
   "metadata": {},
   "outputs": [],
   "source": [
    "# mask array over oringinal to return a 1-d array relating to the true values\n",
    "print(a[a>5])"
   ]
  },
  {
   "cell_type": "markdown",
   "id": "eb3a7a47",
   "metadata": {},
   "source": [
    "### Slicing"
   ]
  },
  {
   "cell_type": "code",
   "execution_count": null,
   "id": "15301202",
   "metadata": {},
   "outputs": [],
   "source": [
    "# Slicing is a way to create a sub-array based on the original array.\n",
    "# Works for 1-d similar to a list\n",
    "a= np.array([0,1,2,3,4,5])\n",
    "print(a[:3])"
   ]
  },
  {
   "cell_type": "code",
   "execution_count": null,
   "id": "fdb86af5",
   "metadata": {},
   "outputs": [],
   "source": [
    "# For multi-dimentional arrays\n",
    "a=np.array([[1,2,3,4], [5,6,7,8], [9,10,11,12]])\n",
    "a"
   ]
  },
  {
   "cell_type": "code",
   "execution_count": null,
   "id": "97fdc2f9",
   "metadata": {},
   "outputs": [],
   "source": [
    "a[:2]"
   ]
  },
  {
   "cell_type": "code",
   "execution_count": null,
   "id": "57feaa69",
   "metadata": {},
   "outputs": [],
   "source": [
    "a[:2, 1:3]"
   ]
  },
  {
   "cell_type": "code",
   "execution_count": null,
   "id": "c7e1a364",
   "metadata": {},
   "outputs": [],
   "source": [
    "sub_array= a[:2, 1:3]\n",
    "print('Sub array index [0,0] value before change:', sub_array[0,0])\n",
    "sub_array[0,0]= 50\n",
    "print('Sub array index [0,0] value after change:', sub_array[0,0])\n",
    "print('oringinal array index [0,1] value after change:', a[0,1])"
   ]
  },
  {
   "cell_type": "code",
   "execution_count": null,
   "id": "b93cac3a",
   "metadata": {},
   "outputs": [],
   "source": []
  }
 ],
 "metadata": {
  "kernelspec": {
   "display_name": "Python 3 (ipykernel)",
   "language": "python",
   "name": "python3"
  },
  "language_info": {
   "codemirror_mode": {
    "name": "ipython",
    "version": 3
   },
   "file_extension": ".py",
   "mimetype": "text/x-python",
   "name": "python",
   "nbconvert_exporter": "python",
   "pygments_lexer": "ipython3",
   "version": "3.9.12"
  }
 },
 "nbformat": 4,
 "nbformat_minor": 5
}
